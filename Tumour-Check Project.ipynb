{
 "cells": [
  {
   "cell_type": "markdown",
   "id": "da194388",
   "metadata": {},
   "source": [
    "# Tumour-Check Project"
   ]
  },
  {
   "cell_type": "markdown",
   "id": "4bce2ba1",
   "metadata": {},
   "source": [
    "## Background"
   ]
  },
  {
   "cell_type": "raw",
   "id": "79bcb3f0",
   "metadata": {},
   "source": [
    "In the medicinal area and healthcare industry, various tools and instruments are being used to detect tumours. At initial stage of check-up, MRI (Magnetic resonance imaging) images are widely used by medicinal practitioners to confirm presence of tumours in a patient."
   ]
  },
  {
   "cell_type": "code",
   "execution_count": null,
   "id": "09cf0d84",
   "metadata": {},
   "outputs": [],
   "source": []
  },
  {
   "cell_type": "markdown",
   "id": "0493d518",
   "metadata": {},
   "source": [
    "# Code"
   ]
  },
  {
   "cell_type": "code",
   "execution_count": null,
   "id": "d0fddacd",
   "metadata": {},
   "outputs": [],
   "source": [
    "# Libaries\n",
    "import pandas as pd\n",
    "import numpy as np\n",
    "import tensorflow as tf\n",
    "from scipy.io import loadmat\n",
    "import matplotlib.pyplot as plt\n",
    "from tensorflow.keras.models import Sequential\n",
    "from tensorflow.keras.layers import Dense, Flatten, Conv2D, MaxPooling2D, Activation, BatchNormalization\n",
    "from tensorflow.keras.callbacks import ModelCheckpoint, EarlyStopping"
   ]
  }
 ],
 "metadata": {
  "kernelspec": {
   "display_name": "Python 3 (ipykernel)",
   "language": "python",
   "name": "python3"
  },
  "language_info": {
   "codemirror_mode": {
    "name": "ipython",
    "version": 3
   },
   "file_extension": ".py",
   "mimetype": "text/x-python",
   "name": "python",
   "nbconvert_exporter": "python",
   "pygments_lexer": "ipython3",
   "version": "3.10.9"
  }
 },
 "nbformat": 4,
 "nbformat_minor": 5
}
